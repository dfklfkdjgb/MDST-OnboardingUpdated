{
 "cells": [
  {
   "cell_type": "markdown",
   "metadata": {
    "colab_type": "text",
    "id": "0a8IYAJUshu1"
   },
   "source": [
    "# Checkpoint 0 \n",
    "## Do not remove comments that start with: \"# @@@\" (Those are question tags)"
   ]
  },
  {
   "cell_type": "markdown",
   "metadata": {},
   "source": [
    "These exercises are a mix of Python and Pandas practice. Most should be no more than a few lines of code! \n",
    "\n",
    "Do not remove comments that start with: \"# @@@\" (Those are question tags)"
   ]
  },
  {
   "cell_type": "code",
   "execution_count": null,
   "metadata": {
    "colab": {},
    "colab_type": "code",
    "id": "Jo6wuTgkshu1"
   },
   "outputs": [],
   "source": [
    "# @@@ Question 1: Here is a python list, initialize another list called b with the same values as a.\n",
    "a = [1, 2, 3, 4, 5, 6]\n",
    "b = a[0:6]"
   ]
  },
  {
   "cell_type": "code",
   "execution_count": null,
   "id": "779d96b1",
   "metadata": {},
   "outputs": [],
   "source": [
    "# @@@ Question 2: get a list containing the last 3 elements of b \n",
    "# Yes, you can just type out [4, 5, 6] but we really want to see you demonstrate you know how to use list slicing in Python\n",
    "last_three = b[3:6]\n"
   ]
  },
  {
   "cell_type": "code",
   "execution_count": null,
   "id": "b6a54def",
   "metadata": {},
   "outputs": [],
   "source": [
    "# @@@ Question 3: Create a list of numbers from 1 to 20\n",
    "numbers = list(range(1, 21))"
   ]
  },
  {
   "cell_type": "code",
   "execution_count": null,
   "id": "487873ac",
   "metadata": {},
   "outputs": [],
   "source": [
    "# @@@ Question 4: now get a list with only the even numbers between 1 and 100\n",
    "even_numbers = list(range(2, 101, 2))"
   ]
  },
  {
   "cell_type": "code",
   "execution_count": null,
   "id": "3d4bb5dd",
   "metadata": {},
   "outputs": [],
   "source": [
    "# @@@ Question 5: write a function that takes two numbers as arguments\n",
    "# and returns the first number divided by the second\n",
    "def divide_numbers(num1, num2):\n",
    "  return num1 / num2"
   ]
  },
  {
   "cell_type": "code",
   "execution_count": null,
   "id": "f55df04e",
   "metadata": {},
   "outputs": [],
   "source": [
    "# @@@ Queston 6: fizzbuzz\n",
    "# you will need to use both iteration and control flow \n",
    "# go through all numbers from 1 to 30 in order\n",
    "# if the number is a multiple of 3, print fizz\n",
    "# if the number is a multiple of 5, print buzz\n",
    "# if the number is a multiple of 3 and 5, print fizzbuzz and NOTHING ELSE\n",
    "# if the number is neither a multiple of 3 nor a multiple of 5, print the number\n",
    "\n",
    "for num in range(1, 31):\n",
    "  if num % 3 == 0 and num % 5 == 0:\n",
    "    print(\"fizzbuzz\")\n",
    "  elif num % 3 == 0:\n",
    "    print(\"fizz\")\n",
    "  elif num % 5 == 0:\n",
    "    print(\"buzz\")\n",
    "  else:\n",
    "    print(num)"
   ]
  },
  {
   "cell_type": "code",
   "execution_count": null,
   "id": "78aace0b",
   "metadata": {},
   "outputs": [],
   "source": [
    "# @@@ Question 7: create a dictionary that reflects the following menu pricing (taken from Ahmo's)\n",
    "# Gyro: $9 \n",
    "# Burger: $9\n",
    "# Greek Salad: $8\n",
    "# Philly Steak: $10\n",
    "\n",
    "menu_pricing = {\n",
    "  \"Gyro\": 9,\n",
    "  \"Burger\": 8,\n",
    "  \"Greek Salad\": 8,\n",
    "  \"Philly Steak\": 10\n",
    "}"
   ]
  },
  {
   "cell_type": "code",
   "execution_count": null,
   "metadata": {
    "colab": {},
    "colab_type": "code",
    "id": "WzCQ5HOJshvA"
   },
   "outputs": [],
   "source": [
    "# @@@ Question 8: load in the \"starbucks.csv\" dataset\n",
    "# refer to how we read the cereal.csv dataset in the tutorial\n",
    "\n",
    "import pandas as pd # type: ignore\n",
    "\n",
    "df = pd.read_csv(\"starbucks.csv\")\n",
    "\n"
   ]
  },
  {
   "cell_type": "code",
   "execution_count": null,
   "id": "ac0f0c12",
   "metadata": {},
   "outputs": [],
   "source": [
    "# @@@ Question 9: select all rows with more than and including 400 calories\n",
    "higher_calorie_items = df[df['Calories'] >= 400]"
   ]
  },
  {
   "cell_type": "code",
   "execution_count": null,
   "id": "ee8f8241",
   "metadata": {},
   "outputs": [],
   "source": [
    "# @@@ Question 10: select all rows whose vitamin c content is higher than the iron content\n",
    "higher_vitamin_c = df[df['Vitamin C'] > df['Iron']]"
   ]
  },
  {
   "cell_type": "code",
   "execution_count": null,
   "id": "d4de48bb",
   "metadata": {},
   "outputs": [],
   "source": [
    "# @@@ Question 11: create a new column containing the caffeine per calories of each drink\n",
    "df['Caffeine per Calories'] = df['Caffeine (mg)'] / df['Calories']"
   ]
  },
  {
   "cell_type": "code",
   "execution_count": null,
   "metadata": {
    "colab": {},
    "colab_type": "code",
    "id": "rIoxaSxHshvB"
   },
   "outputs": [],
   "source": [
    "# @@@ Question 12: what is the average calorie across all items?\n",
    "average_calories = df['Calories'].mean()"
   ]
  },
  {
   "cell_type": "code",
   "execution_count": null,
   "metadata": {
    "colab": {},
    "colab_type": "code",
    "id": "ABX7i49FshvD"
   },
   "outputs": [],
   "source": [
    "# @@@ Question 13: how many different categories of beverages are there?\n",
    "number_of_categories = df['Beverage Category'].nunique()"
   ]
  },
  {
   "cell_type": "code",
   "execution_count": null,
   "metadata": {
    "colab": {},
    "colab_type": "code",
    "id": "P9QatZAzshvE"
   },
   "outputs": [],
   "source": [
    "# @@@ Question 14: what is the average # calories for each beverage category?\n",
    "average_calories_per_category = df.groupby('Beverage Category')['Calories'].mean()"
   ]
  }
 ],
 "metadata": {
  "kernelspec": {
   "display_name": "Python 3.9.0 64-bit",
   "language": "python",
   "name": "python3"
  },
  "language_info": {
   "codemirror_mode": {
    "name": "ipython",
    "version": 3
   },
   "file_extension": ".py",
   "mimetype": "text/x-python",
   "name": "python",
   "nbconvert_exporter": "python",
   "pygments_lexer": "ipython3",
   "version": "3.9.0"
  },
  "vscode": {
   "interpreter": {
    "hash": "6cf8df3ff69f85f626faf55c10df6fe2cb9d1236b4dc73844ee4dc01369c2c99"
   }
  }
 },
 "nbformat": 4,
 "nbformat_minor": 5
}
